{
 "cells": [
  {
   "cell_type": "markdown",
   "id": "644feb86-c3c9-4a11-b8ea-d907879525a8",
   "metadata": {},
   "source": [
    "## 1. Setup and Imports"
   ]
  },
  {
   "cell_type": "code",
   "execution_count": 1,
   "id": "ccb22fa9-cadf-4798-95d9-f65d19ffcd0a",
   "metadata": {},
   "outputs": [
    {
     "name": "stdout",
     "output_type": "stream",
     "text": [
      "Requirement already satisfied: neo4j in /home/ensai/.pyenv/versions/3.13.5/lib/python3.13/site-packages (6.0.2)\n",
      "Requirement already satisfied: pandas in /home/ensai/.pyenv/versions/3.13.5/lib/python3.13/site-packages (2.3.3)\n",
      "Requirement already satisfied: numpy in /home/ensai/.pyenv/versions/3.13.5/lib/python3.13/site-packages (2.3.4)\n",
      "Requirement already satisfied: matplotlib in /home/ensai/.pyenv/versions/3.13.5/lib/python3.13/site-packages (3.10.7)\n",
      "Requirement already satisfied: seaborn in /home/ensai/.pyenv/versions/3.13.5/lib/python3.13/site-packages (0.13.2)\n",
      "Requirement already satisfied: pytz in /home/ensai/.pyenv/versions/3.13.5/lib/python3.13/site-packages (from neo4j) (2025.2)\n",
      "Requirement already satisfied: python-dateutil>=2.8.2 in /home/ensai/.pyenv/versions/3.13.5/lib/python3.13/site-packages (from pandas) (2.9.0.post0)\n",
      "Requirement already satisfied: tzdata>=2022.7 in /home/ensai/.pyenv/versions/3.13.5/lib/python3.13/site-packages (from pandas) (2025.2)\n",
      "Requirement already satisfied: contourpy>=1.0.1 in /home/ensai/.pyenv/versions/3.13.5/lib/python3.13/site-packages (from matplotlib) (1.3.3)\n",
      "Requirement already satisfied: cycler>=0.10 in /home/ensai/.pyenv/versions/3.13.5/lib/python3.13/site-packages (from matplotlib) (0.12.1)\n",
      "Requirement already satisfied: fonttools>=4.22.0 in /home/ensai/.pyenv/versions/3.13.5/lib/python3.13/site-packages (from matplotlib) (4.60.1)\n",
      "Requirement already satisfied: kiwisolver>=1.3.1 in /home/ensai/.pyenv/versions/3.13.5/lib/python3.13/site-packages (from matplotlib) (1.4.9)\n",
      "Requirement already satisfied: packaging>=20.0 in /home/ensai/.pyenv/versions/3.13.5/lib/python3.13/site-packages (from matplotlib) (25.0)\n",
      "Requirement already satisfied: pillow>=8 in /home/ensai/.pyenv/versions/3.13.5/lib/python3.13/site-packages (from matplotlib) (11.3.0)\n",
      "Requirement already satisfied: pyparsing>=3 in /home/ensai/.pyenv/versions/3.13.5/lib/python3.13/site-packages (from matplotlib) (3.2.5)\n",
      "Requirement already satisfied: six>=1.5 in /home/ensai/.pyenv/versions/3.13.5/lib/python3.13/site-packages (from python-dateutil>=2.8.2->pandas) (1.17.0)\n"
     ]
    }
   ],
   "source": [
    "!pip install neo4j pandas numpy matplotlib seaborn"
   ]
  },
  {
   "cell_type": "code",
   "execution_count": 15,
   "id": "7d80c2f1-4ea2-4a81-a2a8-9a0eaa455d74",
   "metadata": {},
   "outputs": [],
   "source": [
    "from neo4j import GraphDatabase\n",
    "import pandas as pd\n",
    "import os\n",
    "import seaborn as sns\n",
    "import matplotlib.pyplot as plt\n",
    "import numpy as np"
   ]
  },
  {
   "cell_type": "markdown",
   "id": "8e9fa0a0-82af-4df5-b476-41e3b691fc93",
   "metadata": {},
   "source": [
    "### Connect to Neo4j\n",
    "\n",
    "**⚠️ Update the password below to match your Neo4j instance!**"
   ]
  },
  {
   "cell_type": "code",
   "execution_count": 18,
   "id": "2ddfb6ff-fb3f-4076-9572-abc1e40290dd",
   "metadata": {},
   "outputs": [
    {
     "name": "stdout",
     "output_type": "stream",
     "text": [
      "Connected to Neo4j!\n",
      "✓ Connection successful!\n"
     ]
    }
   ],
   "source": [
    "# Neo4j connection parameters\n",
    "NEO4J_URI = \"bolt://localhost:7687\"\n",
    "NEO4J_USER = \"neo4j\"\n",
    "NEO4J_PASSWORD = \"JeanAlice#123\"  # CHANGE THIS!\n",
    "\n",
    "# Test connection\n",
    "driver = GraphDatabase.driver(NEO4J_URI, auth=(NEO4J_USER, NEO4J_PASSWORD))\n",
    "\n",
    "try:\n",
    "    with driver.session() as session:\n",
    "        result = session.run(\"RETURN 'Connected to Neo4j!' AS message\")\n",
    "        print(result.single()[\"message\"])\n",
    "        print(\"✓ Connection successful!\")\n",
    "except Exception as e:\n",
    "    print(f\"✗ Connection failed: {e}\")\n",
    "    print(\"Make sure Neo4j is running: docker ps or using local command(To be specify) if not working with docker\")"
   ]
  },
  {
   "cell_type": "markdown",
   "id": "83055bc9-c9bd-46d0-87cf-aaa8830cd84a",
   "metadata": {},
   "source": [
    "## 2. Understanding the dataset"
   ]
  },
  {
   "cell_type": "code",
   "execution_count": 19,
   "id": "1fa89824-4893-44e8-9183-55ede7dd8f7e",
   "metadata": {},
   "outputs": [
    {
     "name": "stdout",
     "output_type": "stream",
     "text": [
      "============================================================\n",
      "DATASET OVERVIEW\n",
      "============================================================\n",
      "Number of users: 671\n",
      "Number of movies: 9,125\n",
      "Number of ratings: 100,004\n",
      "\n",
      "Rating range: 0.5 - 5.0\n",
      "Average rating: 3.54\n",
      "Median rating: 4.0\n"
     ]
    }
   ],
   "source": [
    "# Load the CSV files\n",
    "data_path =''\n",
    "movies_df = pd.read_csv(os.path.join(data_path, \"movies.csv\"))\n",
    "ratings_df = pd.read_csv(os.path.join(data_path, \"ratings.csv\"))\n",
    "\n",
    "print(\"=\"*60)\n",
    "print(\"DATASET OVERVIEW\")\n",
    "print(\"=\"*60)\n",
    "print(f\"Number of users: {ratings_df['userId'].nunique():,}\")\n",
    "print(f\"Number of movies: {movies_df.shape[0]:,}\")\n",
    "print(f\"Number of ratings: {ratings_df.shape[0]:,}\")\n",
    "print(f\"\\nRating range: {ratings_df['rating'].min()} - {ratings_df['rating'].max()}\")\n",
    "print(f\"Average rating: {ratings_df['rating'].mean():.2f}\")\n",
    "print(f\"Median rating: {ratings_df['rating'].median():.1f}\")"
   ]
  },
  {
   "cell_type": "code",
   "execution_count": 5,
   "id": "a478d0ee-b1c1-4719-b21d-996c3428789a",
   "metadata": {},
   "outputs": [
    {
     "name": "stdout",
     "output_type": "stream",
     "text": [
      "\n",
      "============================================================\n",
      "MOVIES SAMPLE\n",
      "============================================================\n"
     ]
    },
    {
     "data": {
      "text/html": [
       "<div>\n",
       "<style scoped>\n",
       "    .dataframe tbody tr th:only-of-type {\n",
       "        vertical-align: middle;\n",
       "    }\n",
       "\n",
       "    .dataframe tbody tr th {\n",
       "        vertical-align: top;\n",
       "    }\n",
       "\n",
       "    .dataframe thead th {\n",
       "        text-align: right;\n",
       "    }\n",
       "</style>\n",
       "<table border=\"1\" class=\"dataframe\">\n",
       "  <thead>\n",
       "    <tr style=\"text-align: right;\">\n",
       "      <th></th>\n",
       "      <th>movieId</th>\n",
       "      <th>title</th>\n",
       "      <th>genres</th>\n",
       "    </tr>\n",
       "  </thead>\n",
       "  <tbody>\n",
       "    <tr>\n",
       "      <th>0</th>\n",
       "      <td>1</td>\n",
       "      <td>Toy Story (1995)</td>\n",
       "      <td>Adventure|Animation|Children|Comedy|Fantasy</td>\n",
       "    </tr>\n",
       "    <tr>\n",
       "      <th>1</th>\n",
       "      <td>2</td>\n",
       "      <td>Jumanji (1995)</td>\n",
       "      <td>Adventure|Children|Fantasy</td>\n",
       "    </tr>\n",
       "    <tr>\n",
       "      <th>2</th>\n",
       "      <td>3</td>\n",
       "      <td>Grumpier Old Men (1995)</td>\n",
       "      <td>Comedy|Romance</td>\n",
       "    </tr>\n",
       "    <tr>\n",
       "      <th>3</th>\n",
       "      <td>4</td>\n",
       "      <td>Waiting to Exhale (1995)</td>\n",
       "      <td>Comedy|Drama|Romance</td>\n",
       "    </tr>\n",
       "    <tr>\n",
       "      <th>4</th>\n",
       "      <td>5</td>\n",
       "      <td>Father of the Bride Part II (1995)</td>\n",
       "      <td>Comedy</td>\n",
       "    </tr>\n",
       "    <tr>\n",
       "      <th>5</th>\n",
       "      <td>6</td>\n",
       "      <td>Heat (1995)</td>\n",
       "      <td>Action|Crime|Thriller</td>\n",
       "    </tr>\n",
       "    <tr>\n",
       "      <th>6</th>\n",
       "      <td>7</td>\n",
       "      <td>Sabrina (1995)</td>\n",
       "      <td>Comedy|Romance</td>\n",
       "    </tr>\n",
       "    <tr>\n",
       "      <th>7</th>\n",
       "      <td>8</td>\n",
       "      <td>Tom and Huck (1995)</td>\n",
       "      <td>Adventure|Children</td>\n",
       "    </tr>\n",
       "    <tr>\n",
       "      <th>8</th>\n",
       "      <td>9</td>\n",
       "      <td>Sudden Death (1995)</td>\n",
       "      <td>Action</td>\n",
       "    </tr>\n",
       "    <tr>\n",
       "      <th>9</th>\n",
       "      <td>10</td>\n",
       "      <td>GoldenEye (1995)</td>\n",
       "      <td>Action|Adventure|Thriller</td>\n",
       "    </tr>\n",
       "  </tbody>\n",
       "</table>\n",
       "</div>"
      ],
      "text/plain": [
       "   movieId                               title  \\\n",
       "0        1                    Toy Story (1995)   \n",
       "1        2                      Jumanji (1995)   \n",
       "2        3             Grumpier Old Men (1995)   \n",
       "3        4            Waiting to Exhale (1995)   \n",
       "4        5  Father of the Bride Part II (1995)   \n",
       "5        6                         Heat (1995)   \n",
       "6        7                      Sabrina (1995)   \n",
       "7        8                 Tom and Huck (1995)   \n",
       "8        9                 Sudden Death (1995)   \n",
       "9       10                    GoldenEye (1995)   \n",
       "\n",
       "                                        genres  \n",
       "0  Adventure|Animation|Children|Comedy|Fantasy  \n",
       "1                   Adventure|Children|Fantasy  \n",
       "2                               Comedy|Romance  \n",
       "3                         Comedy|Drama|Romance  \n",
       "4                                       Comedy  \n",
       "5                        Action|Crime|Thriller  \n",
       "6                               Comedy|Romance  \n",
       "7                           Adventure|Children  \n",
       "8                                       Action  \n",
       "9                    Action|Adventure|Thriller  "
      ]
     },
     "metadata": {},
     "output_type": "display_data"
    },
    {
     "name": "stdout",
     "output_type": "stream",
     "text": [
      "\n",
      "============================================================\n",
      "RATINGS SAMPLE\n",
      "============================================================\n"
     ]
    },
    {
     "data": {
      "text/html": [
       "<div>\n",
       "<style scoped>\n",
       "    .dataframe tbody tr th:only-of-type {\n",
       "        vertical-align: middle;\n",
       "    }\n",
       "\n",
       "    .dataframe tbody tr th {\n",
       "        vertical-align: top;\n",
       "    }\n",
       "\n",
       "    .dataframe thead th {\n",
       "        text-align: right;\n",
       "    }\n",
       "</style>\n",
       "<table border=\"1\" class=\"dataframe\">\n",
       "  <thead>\n",
       "    <tr style=\"text-align: right;\">\n",
       "      <th></th>\n",
       "      <th>userId</th>\n",
       "      <th>movieId</th>\n",
       "      <th>rating</th>\n",
       "      <th>timestamp</th>\n",
       "    </tr>\n",
       "  </thead>\n",
       "  <tbody>\n",
       "    <tr>\n",
       "      <th>0</th>\n",
       "      <td>1</td>\n",
       "      <td>31</td>\n",
       "      <td>2.5</td>\n",
       "      <td>1260759144</td>\n",
       "    </tr>\n",
       "    <tr>\n",
       "      <th>1</th>\n",
       "      <td>1</td>\n",
       "      <td>1029</td>\n",
       "      <td>3.0</td>\n",
       "      <td>1260759179</td>\n",
       "    </tr>\n",
       "    <tr>\n",
       "      <th>2</th>\n",
       "      <td>1</td>\n",
       "      <td>1061</td>\n",
       "      <td>3.0</td>\n",
       "      <td>1260759182</td>\n",
       "    </tr>\n",
       "    <tr>\n",
       "      <th>3</th>\n",
       "      <td>1</td>\n",
       "      <td>1129</td>\n",
       "      <td>2.0</td>\n",
       "      <td>1260759185</td>\n",
       "    </tr>\n",
       "    <tr>\n",
       "      <th>4</th>\n",
       "      <td>1</td>\n",
       "      <td>1172</td>\n",
       "      <td>4.0</td>\n",
       "      <td>1260759205</td>\n",
       "    </tr>\n",
       "    <tr>\n",
       "      <th>5</th>\n",
       "      <td>1</td>\n",
       "      <td>1263</td>\n",
       "      <td>2.0</td>\n",
       "      <td>1260759151</td>\n",
       "    </tr>\n",
       "    <tr>\n",
       "      <th>6</th>\n",
       "      <td>1</td>\n",
       "      <td>1287</td>\n",
       "      <td>2.0</td>\n",
       "      <td>1260759187</td>\n",
       "    </tr>\n",
       "    <tr>\n",
       "      <th>7</th>\n",
       "      <td>1</td>\n",
       "      <td>1293</td>\n",
       "      <td>2.0</td>\n",
       "      <td>1260759148</td>\n",
       "    </tr>\n",
       "    <tr>\n",
       "      <th>8</th>\n",
       "      <td>1</td>\n",
       "      <td>1339</td>\n",
       "      <td>3.5</td>\n",
       "      <td>1260759125</td>\n",
       "    </tr>\n",
       "    <tr>\n",
       "      <th>9</th>\n",
       "      <td>1</td>\n",
       "      <td>1343</td>\n",
       "      <td>2.0</td>\n",
       "      <td>1260759131</td>\n",
       "    </tr>\n",
       "  </tbody>\n",
       "</table>\n",
       "</div>"
      ],
      "text/plain": [
       "   userId  movieId  rating   timestamp\n",
       "0       1       31     2.5  1260759144\n",
       "1       1     1029     3.0  1260759179\n",
       "2       1     1061     3.0  1260759182\n",
       "3       1     1129     2.0  1260759185\n",
       "4       1     1172     4.0  1260759205\n",
       "5       1     1263     2.0  1260759151\n",
       "6       1     1287     2.0  1260759187\n",
       "7       1     1293     2.0  1260759148\n",
       "8       1     1339     3.5  1260759125\n",
       "9       1     1343     2.0  1260759131"
      ]
     },
     "metadata": {},
     "output_type": "display_data"
    }
   ],
   "source": [
    "# Preview the data\n",
    "print(\"\\n\" + \"=\"*60)\n",
    "print(\"MOVIES SAMPLE\")\n",
    "print(\"=\"*60)\n",
    "display(movies_df.head(10))\n",
    "\n",
    "print(\"\\n\" + \"=\"*60)\n",
    "print(\"RATINGS SAMPLE\")\n",
    "print(\"=\"*60)\n",
    "display(ratings_df.head(10))"
   ]
  },
  {
   "cell_type": "markdown",
   "id": "da925b05-8da9-4c3c-a4f0-b86f8ef5faf8",
   "metadata": {},
   "source": [
    "## 3.Exploratory data analysis"
   ]
  },
  {
   "cell_type": "code",
   "execution_count": 6,
   "id": "4f3fa786",
   "metadata": {},
   "outputs": [
    {
     "name": "stdout",
     "output_type": "stream",
     "text": [
      "We have 9125 movies\n",
      "Number of duplicated movies :0\n",
      "Number of missing values in the movies data :\n",
      "movieId    0\n",
      "title      0\n",
      "genres     0\n",
      "dtype: int64\n",
      "Distribution of the movies genres\n",
      "Total Numbers of genres : 20\n",
      "genres_list\n",
      "Drama                 4365\n",
      "Comedy                3315\n",
      "Thriller              1729\n",
      "Action                1545\n",
      "Romance               1545\n",
      "Adventure             1117\n",
      "Crime                 1100\n",
      "Horror                 877\n",
      "Sci-Fi                 792\n",
      "Fantasy                654\n",
      "Children               583\n",
      "Mystery                543\n",
      "Documentary            495\n",
      "Animation              447\n",
      "Musical                394\n",
      "War                    367\n",
      "Western                168\n",
      "IMAX                   153\n",
      "Film-Noir              133\n",
      "(no genres listed)      18\n",
      "Name: count, dtype: int64\n",
      "====================\n",
      "Multigenders movies\n",
      "====================\n",
      "   n_genres  percentage\n",
      "7         1       30.61\n",
      "8         2       33.30\n",
      "6         3       23.18\n",
      "5         4        9.34\n",
      "4         5        2.86\n",
      "3         6        0.55\n",
      "2         7        0.12\n",
      "1         8        0.03\n",
      "0        10        0.01\n"
     ]
    },
    {
     "name": "stderr",
     "output_type": "stream",
     "text": [
      "/tmp/ipykernel_80625/4034258553.py:20: FutureWarning: \n",
      "\n",
      "Passing `palette` without assigning `hue` is deprecated and will be removed in v0.14.0. Assign the `y` variable to `hue` and set `legend=False` for the same effect.\n",
      "\n",
      "  sns.barplot(y = 'genre', x = 'count', data = genre_df, palette = 'crest')\n",
      "/tmp/ipykernel_80625/4034258553.py:40: FutureWarning: \n",
      "\n",
      "Passing `palette` without assigning `hue` is deprecated and will be removed in v0.14.0. Assign the `x` variable to `hue` and set `legend=False` for the same effect.\n",
      "\n",
      "  sns.barplot(x='n_genres', y = 'percentage', data = dist_df, palette = 'viridis')\n"
     ]
    },
    {
     "data": {
      "image/png": "[encoded data removed]",
      "text/plain": [
       "<Figure size 1000x600 with 1 Axes>"
      ]
     },
     "metadata": {},
     "output_type": "display_data"
    },
    {
     "data": {
      "image/png": "[encoded data removed]",
      "text/plain": [
       "<Figure size 800x500 with 1 Axes>"
      ]
     },
     "metadata": {},
     "output_type": "display_data"
    },
    {
     "name": "stdout",
     "output_type": "stream",
     "text": [
      " Average numbers of genders per movie : 2.2290410958904108\n",
      " Maximum of genders for a movie : 10\n",
      "Minimum of genders for a movie : 1\n"
     ]
    }
   ],
   "source": [
    "# Movies \n",
    "print ( \"We have 9125 movies\")\n",
    "print (f\"Number of duplicated movies :{movies_df.duplicated(subset = ['movieId', 'title', 'genres']).sum()}\")\n",
    "print (f\"Number of missing values in the movies data :\")\n",
    "print (f\"{movies_df.isnull().sum()}\")\n",
    "print(\"Distribution of the movies genres\")\n",
    "movies_df['genres_list'] = movies_df['genres'].apply(lambda x:x.split('|') if isinstance(x, str) else [])\n",
    "genres_exploded =  movies_df.explode('genres_list')\n",
    "genre_counts = genres_exploded['genres_list'].value_counts()\n",
    "\n",
    "flat_genres = [genre for sublist in movies_df['genres_list'] for genre in sublist]\n",
    "uniques_genre = set(flat_genres)\n",
    "print(f\"Total Numbers of genres : {len(uniques_genre)}\")\n",
    "# Numbers of movies for each genres\n",
    "print(genre_counts)\n",
    "\n",
    "# Visualization of the genres\n",
    "genre_df = pd.DataFrame(genre_counts.items(), columns=['genre', 'count']).sort_values('count', ascending = False ) \n",
    "plt.figure(figsize = (10,6))\n",
    "sns.barplot(y = 'genre', x = 'count', data = genre_df, palette = 'crest')\n",
    "plt.title(\"Distribution of movies genres\")\n",
    "plt.xlabel(\"Movies numbers\")\n",
    "plt.ylabel(\"Movies genres\")\n",
    "plt.show\n",
    "\n",
    "\n",
    "## Multigenders movies \n",
    "print ('='*20)\n",
    "print (\"Multigenders movies\")\n",
    "print ('='*20)\n",
    "movies_df['n_genres'] = movies_df['genres_list'].apply(len)\n",
    "dist = movies_df['n_genres'].value_counts().sort_values()\n",
    "dist_percent = (dist / dist.sum() * 100).round(2)\n",
    "dist_df = pd.DataFrame({\n",
    "    'n_genres':dist.index,\n",
    "    'percentage': dist_percent.values\n",
    "}).sort_values('n_genres')\n",
    "print(dist_df)\n",
    "plt.figure(figsize=(8,5))\n",
    "sns.barplot(x='n_genres', y = 'percentage', data = dist_df, palette = 'viridis')\n",
    "plt.title(\"Répartition (%) of numbers of genders per movies\")\n",
    "plt.xlabel(\"Numbers of genders associated with a movie\")\n",
    "plt.ylabel(\"Percentage of movies\")\n",
    "# Adding of values on the bars\n",
    "for idx, row in enumerate(dist_df.itertuples()):\n",
    "    plt.text(idx, row.percentage + 0.3 , f\"{row.percentage}%\", ha = 'center')\n",
    "plt.show()\n",
    "\n",
    "print(\" Average numbers of genders per movie :\", movies_df['n_genres'].mean())\n",
    "print(\" Maximum of genders for a movie :\", movies_df['n_genres'].max())\n",
    "print(\"Minimum of genders for a movie :\", movies_df['n_genres'].min())"
   ]
  },
  {
   "cell_type": "code",
   "execution_count": 13,
   "id": "7348c5f6",
   "metadata": {},
   "outputs": [
    {
     "name": "stdout",
     "output_type": "stream",
     "text": [
      "============================================================\n",
      "          Users & Ratings\n",
      "============================================================\n",
      "We have 100,004 ratings for 671 users\n",
      "Numbers of missing values : userId       0\n",
      "movieId      0\n",
      "rating       0\n",
      "timestamp    0\n",
      "dtype: int64\n",
      " Average numbers of ratings per user : 149.03725782414307\n",
      " Maximum of rating for a user : 2391\n",
      "Minimum of rating for a user : 20\n",
      "Median of rating for a user : 71.0\n",
      "50% of users rated less than 71 movies and 50% of users rated more than 71 movies\n",
      "Checking that each user rates a movie only once\n",
      "Numbers of unique couple (userId, movieId) : 100004\n"
     ]
    },
    {
     "data": {
      "image/png": "[encoded data removed]",
      "text/plain": [
       "<Figure size 1000x600 with 1 Axes>"
      ]
     },
     "metadata": {},
     "output_type": "display_data"
    }
   ],
   "source": [
    "# Users & Ratings\n",
    "print ('='*60)\n",
    "print('          Users & Ratings')\n",
    "print('='*60)\n",
    "print (\"We have 100,004 ratings for 671 users\")\n",
    "\n",
    "print(f\"Numbers of missing values : {ratings_df.isnull().sum()}\")\n",
    "\n",
    "print(f\" Average numbers of ratings per user : {ratings_df.groupby('userId')['rating'].count().mean()}\")\n",
    "print(\" Maximum of rating for a user :\", ratings_df.groupby('userId')['rating'].count().max())\n",
    "print(\"Minimum of rating for a user :\", ratings_df.groupby('userId')['rating'].count().min())\n",
    "print(\"Median of rating for a user :\", ratings_df.groupby('userId')['rating'].count().median())\n",
    "print('50% of users rated less than 71 movies and 50% of users rated more than 71 movies')\n",
    "\n",
    "# checking that the rating is unique for each user , each user rate a movie only once \n",
    "print(\"Checking that each user rates a movie only once\")\n",
    "unique_couples = ratings_df[['userId', 'movieId']].drop_duplicates().shape[0]\n",
    "print(f\"Numbers of unique couple (userId, movieId) : {unique_couples}\")\n",
    "\n",
    "# Distribution of ratings\n",
    "rating_distribution = ratings_df['rating'].value_counts().sort_index()\n",
    "rating_percent = ( rating_distribution / rating_distribution.sum() * 100 ).round(2)\n",
    "rating_distribution_df = pd.DataFrame({\n",
    "    'rating' :rating_distribution.index,\n",
    "    'count': rating_distribution.values,\n",
    "    'percentage': rating_percent.values\n",
    "})\n",
    "# # vizualisation\n",
    "# plt.figure(figsize=(10,6))\n",
    "# sns.barplot(x='rating', y = 'percentage', data = rating_distribution_df, hue = 'rating', palette='viridis', legend=False)\n",
    "# plt.title(\"Distribution of ratings \")\n",
    "# # Adding the percentage on the bar\n",
    "# for idx, row in enumerate(rating_distribution_df.itertuples()):\n",
    "#     plt.text(idx, row.count + 0.5, f\"{row.percentage}%\", ha='center')\n",
    "# plt.show()\n",
    "\n",
    "\n",
    "# vizualisation (alternative sans seaborn)\n",
    "plt.figure(figsize=(10,6))\n",
    "colors = plt.cm.viridis(np.linspace(0, 1, len(rating_distribution_df)))\n",
    "plt.bar(rating_distribution_df['rating'].astype(str), rating_distribution_df['percentage'], color=colors, edgecolor='black')\n",
    "plt.title(\"Distribution of ratings\", fontsize=14)\n",
    "plt.xlabel('Rating', fontsize=12)\n",
    "plt.ylabel('Percentage (%)', fontsize=12)\n",
    "\n",
    "# Adding the percentage on the bar\n",
    "for idx, row in enumerate(rating_distribution_df.itertuples()):\n",
    "    plt.text(idx, row.percentage + 0.5, f\"{row.percentage}%\", ha='center', fontsize=10)\n",
    "\n",
    "plt.tight_layout()\n",
    "plt.show()"
   ]
  },
  {
   "cell_type": "markdown",
   "id": "c41d20a4-8fc7-4cef-89ed-8b88ce75ebb2",
   "metadata": {},
   "source": [
    "## 4. Loading Data into Neo4j\n",
    "\n",
    "Now we will create the graph structure in Neo4j."
   ]
  },
  {
   "cell_type": "code",
   "execution_count": 20,
   "id": "9404f42d-ada3-4897-8c45-1e0f8e6eed2a",
   "metadata": {},
   "outputs": [
    {
     "name": "stdout",
     "output_type": "stream",
     "text": [
      "✓ Database cleared\n",
      "✓ Constraints created\n"
     ]
    }
   ],
   "source": [
    "def clear_database():\n",
    "    \"\"\"Clear all nodes and relationships\"\"\"\n",
    "    with driver.session() as session:\n",
    "        session.run(\"MATCH (n) DETACH DELETE n\")\n",
    "    print(\"✓ Database cleared\")\n",
    "\n",
    "def create_constraints():\n",
    "    \"\"\"Create uniqueness constraints for better performance\"\"\"\n",
    "    with driver.session() as session:\n",
    "        try:\n",
    "            session.run(\"CREATE CONSTRAINT user_id IF NOT EXISTS FOR (u:User) REQUIRE u.userId IS UNIQUE\")\n",
    "            session.run(\"CREATE CONSTRAINT movie_id IF NOT EXISTS FOR (m:Movie) REQUIRE m.movieId IS UNIQUE\")\n",
    "            print(\"✓ Constraints created\")\n",
    "        except Exception as e:\n",
    "            print(f\"Constraints may already exist: {e}\")\n",
    "\n",
    "# Clear and prepare database\n",
    "clear_database()\n",
    "create_constraints()"
   ]
  },
  {
   "cell_type": "code",
   "execution_count": 21,
   "id": "985f84fd-d252-421d-a1c2-a881ecad76ab",
   "metadata": {},
   "outputs": [
    {
     "name": "stdout",
     "output_type": "stream",
     "text": [
      "Loading movies...\n",
      "✓ Loaded 9125 movies\n"
     ]
    }
   ],
   "source": [
    "# Load movies\n",
    "print(\"Loading movies...\")\n",
    "with driver.session() as session:\n",
    "    for _, row in movies_df.iterrows():\n",
    "        session.run(\"\"\"\n",
    "            MERGE (m:Movie {movieId: $movieId})\n",
    "            SET m.title = $title, m.genres = $genres\n",
    "        \"\"\", movieId=int(row['movieId']), \n",
    "             title=row['title'], \n",
    "             genres=row['genres'])\n",
    "\n",
    "print(f\"✓ Loaded {len(movies_df)} movies\")"
   ]
  },
  {
   "cell_type": "code",
   "execution_count": 22,
   "id": "5dcd7ceb-8c66-452a-b0c4-264718cc989e",
   "metadata": {},
   "outputs": [
    {
     "name": "stdout",
     "output_type": "stream",
     "text": [
      "Loading ratings...\n",
      "  Loaded 10,000 ratings...\n",
      "  Loaded 20,000 ratings...\n",
      "  Loaded 30,000 ratings...\n",
      "  Loaded 40,000 ratings...\n",
      "  Loaded 50,000 ratings...\n",
      "  Loaded 60,000 ratings...\n",
      "  Loaded 70,000 ratings...\n",
      "  Loaded 80,000 ratings...\n",
      "  Loaded 90,000 ratings...\n",
      "  Loaded 100,000 ratings...\n",
      "✓ Loaded 100,004 ratings\n",
      "\n",
      "✓ Data loading complete!\n"
     ]
    }
   ],
   "source": [
    "# Load ratings in batches\n",
    "print(\"Loading ratings...\")\n",
    "batch_size = 1000\n",
    "\n",
    "for i in range(0, len(ratings_df), batch_size):\n",
    "    batch = ratings_df.iloc[i:i+batch_size]\n",
    "    \n",
    "    with driver.session() as session:\n",
    "        session.run(\"\"\"\n",
    "            UNWIND $ratings AS rating\n",
    "            MERGE (u:User {userId: rating.userId})\n",
    "            MERGE (m:Movie {movieId: rating.movieId})\n",
    "            MERGE (u)-[r:RATED]->(m)\n",
    "            SET r.rating = rating.rating, r.timestamp = rating.timestamp\n",
    "        \"\"\", ratings=[row.to_dict() for _, row in batch.iterrows()])\n",
    "    \n",
    "    if (i + batch_size) % 10000 == 0:\n",
    "        print(f\"  Loaded {i + batch_size:,} ratings...\")\n",
    "\n",
    "print(f\"✓ Loaded {len(ratings_df):,} ratings\")\n",
    "print(\"\\n✓ Data loading complete!\")"
   ]
  },
  {
   "cell_type": "code",
   "execution_count": 23,
   "id": "3c372aff-b9e8-446f-b881-0164dbd8c4c2",
   "metadata": {},
   "outputs": [
    {
     "name": "stdout",
     "output_type": "stream",
     "text": [
      "============================================================\n",
      "NEO4J DATABASE STATISTICS\n",
      "============================================================\n",
      "Users in database: 671\n",
      "Movies in database: 9,125\n",
      "Ratings in database: 100,004\n",
      "\n",
      "✓ Data successfully loaded into Neo4j!\n"
     ]
    }
   ],
   "source": [
    "# Verify data in Neo4j\n",
    "with driver.session() as session:\n",
    "    result = session.run(\"MATCH (u:User) RETURN count(u) AS count\")\n",
    "    user_count = result.single()[\"count\"]\n",
    "    \n",
    "    result = session.run(\"MATCH (m:Movie) RETURN count(m) AS count\")\n",
    "    movie_count = result.single()[\"count\"]\n",
    "    \n",
    "    result = session.run(\"MATCH ()-[r:RATED]->() RETURN count(r) AS count\")\n",
    "    rating_count = result.single()[\"count\"]\n",
    "\n",
    "print(\"=\"*60)\n",
    "print(\"NEO4J DATABASE STATISTICS\")\n",
    "print(\"=\"*60)\n",
    "print(f\"Users in database: {user_count:,}\")\n",
    "print(f\"Movies in database: {movie_count:,}\")\n",
    "print(f\"Ratings in database: {rating_count:,}\")\n",
    "print(\"\\n✓ Data successfully loaded into Neo4j!\")"
   ]
  },
  {
   "cell_type": "code",
   "execution_count": 24,
   "id": "fde8cb89-a5e7-4160-aeb1-dd2c9c3a5a2b",
   "metadata": {},
   "outputs": [
    {
     "name": "stdout",
     "output_type": "stream",
     "text": [
      "<Node element_id='4:ec60d456-54ff-49ac-8eab-6031537ac98a:0' labels=frozenset({'Movie'}) properties={'genres': 'Comedy|Crime|Thriller', 'movieId': 21, 'title': 'Get Shorty (1995)'}>\n",
      "<Node element_id='4:ec60d456-54ff-49ac-8eab-6031537ac98a:1' labels=frozenset({'Movie'}) properties={'genres': 'Crime|Drama|Horror|Mystery|Thriller', 'movieId': 22, 'title': 'Copycat (1995)'}>\n",
      "<Node element_id='4:ec60d456-54ff-49ac-8eab-6031537ac98a:2' labels=frozenset({'Movie'}) properties={'genres': 'Action|Crime|Thriller', 'movieId': 23, 'title': 'Assassins (1995)'}>\n",
      "<Node element_id='4:ec60d456-54ff-49ac-8eab-6031537ac98a:3' labels=frozenset({'Movie'}) properties={'genres': 'Drama|Sci-Fi', 'movieId': 24, 'title': 'Powder (1995)'}>\n",
      "<Node element_id='4:ec60d456-54ff-49ac-8eab-6031537ac98a:4' labels=frozenset({'Movie'}) properties={'genres': 'Drama|Romance', 'movieId': 25, 'title': 'Leaving Las Vegas (1995)'}>\n"
     ]
    }
   ],
   "source": [
    "# Try to get few data\n",
    "with driver.session() as session:\n",
    "    result = session.run(\"MATCH (n:Movie) RETURN n LIMIT 5\")\n",
    "    \n",
    "    # Print the results\n",
    "    for record in result:\n",
    "        print(record[\"n\"])"
   ]
  },
  {
   "cell_type": "code",
   "execution_count": 25,
   "id": "fc8d9427-c680-488b-a093-6abb0591d744",
   "metadata": {},
   "outputs": [
    {
     "name": "stdout",
     "output_type": "stream",
     "text": [
      "Movie ID: 21, Title: Get Shorty (1995)\n",
      "Movie ID: 22, Title: Copycat (1995)\n",
      "Movie ID: 23, Title: Assassins (1995)\n"
     ]
    }
   ],
   "source": [
    "# Try to get few data\n",
    "with driver.session() as session:\n",
    "    result = session.run(\"MATCH (n:Movie) RETURN n LIMIT 3\")\n",
    "    \n",
    "    for record in result:\n",
    "        movie = record[\"n\"]\n",
    "        print(f\"Movie ID: {movie['movieId']}, Title: {movie['title']}\")"
   ]
  },
  {
   "cell_type": "markdown",
   "id": "8e684a6a",
   "metadata": {},
   "source": [
    "## 5. Recommandation System"
   ]
  },
  {
   "cell_type": "markdown",
   "id": "8f5c5745",
   "metadata": {},
   "source": [
    "### 5.1. The content-based approach"
   ]
  },
  {
   "cell_type": "code",
   "execution_count": 31,
   "id": "51769182-ee1f-4365-8c2c-40924e5fb2a1",
   "metadata": {},
   "outputs": [
    {
     "name": "stdout",
     "output_type": "stream",
     "text": [
      "Creating Genders nodes and relationship ....\n",
      "Genres nodes and relationship created\n"
     ]
    }
   ],
   "source": [
    "# Creating of Genre nodes and relationship\n",
    "\n",
    "print(\"Creating Genders nodes and relationship ....\")\n",
    "with driver.session() as session :\n",
    "    session.run( \"\"\"\n",
    "                MATCH(m:Movie)\n",
    "                WHERE m.genres IS NOT NULL\n",
    "                UNWIND split(m.genres, '|') AS genre\n",
    "                MERGE (g:Genre{name:genre})\n",
    "                MERGE (m)-[:HAS_GENRE]->(g)\n",
    "                \"\"\")\n",
    "print(\"Genres nodes and relationship created\")"
   ]
  },
  {
   "cell_type": "code",
   "execution_count": null,
   "id": "a9f0567b",
   "metadata": {},
   "outputs": [
    {
     "name": "stdout",
     "output_type": "stream",
     "text": [
      "============================================================\n",
      "         Recommandations pour 'Toy Story (1995)'\n",
      "============================================================\n",
      "1. Asterix and the Vikings (Astérix et les Vikings) (2006)\n",
      "   Similarité: 5 genres communs\n",
      "   Genres partagés: Comedy, Children, Adventure, Fantasy, Animation\n",
      "\n",
      "2. Shrek Forever After (a.k.a. Shrek: The Final Chapter) (2010)\n",
      "   Similarité: 5 genres communs\n",
      "   Genres partagés: Comedy, Children, Adventure, Fantasy, Animation\n",
      "\n",
      "3. Turbo (2013)\n",
      "   Similarité: 5 genres communs\n",
      "   Genres partagés: Comedy, Children, Adventure, Fantasy, Animation\n",
      "\n",
      "4. Antz (1998)\n",
      "   Similarité: 5 genres communs\n",
      "   Genres partagés: Comedy, Children, Adventure, Fantasy, Animation\n",
      "\n",
      "5. Toy Story 2 (1999)\n",
      "   Similarité: 5 genres communs\n",
      "   Genres partagés: Comedy, Children, Adventure, Fantasy, Animation\n",
      "\n"
     ]
    }
   ],
   "source": [
    "def content_based (movie_title, limit = 10):\n",
    "    \"\"\"\n",
    "    Recommend similar movies based on commons genders\n",
    "    \"\"\"\n",
    "    \n",
    "    with driver.session() as session:\n",
    "        result = session.run(\"\"\"\n",
    "                              // step 1 : Find the reference movie\n",
    "                              MATCH (m1:Movie {title: $title})\n",
    "                              \n",
    "                              // step 2 : Find his genders\n",
    "                              MATCH (m1)-[:HAS_GENRE]->(g:Genre)\n",
    "                              \n",
    "                              // step 3 : Find others movies with the same genders\n",
    "                              MATCH (m2:Movie)-[:HAS_GENRE]->(g)\n",
    "                              \n",
    "                              // step 4 : Exclude the original movie\n",
    "                              WHERE m1 <> m2\n",
    "                              \n",
    "                              // step 5 : Count the genders they have in common and compute score\n",
    "                              WITH m2, COUNT(DISTINCT g) AS common_genres, \n",
    "                                  COLLECT(DISTINCT g.name) AS shared_genres\n",
    "\n",
    "                              // step 6 : Trier par similarité\n",
    "                              RETURN m2.title AS recommended_movie, \n",
    "                                    m2.genres AS all_genres,\n",
    "                                    common_genres AS similarity_score,\n",
    "                                    shared_genres\n",
    "                              ORDER BY similarity_score DESC\n",
    "                              LIMIT $limit \"\"\", title = movie_title, limit = limit)\n",
    "        recommendations = []\n",
    "        for record in result:\n",
    "            recommendations.append({\n",
    "                'title':record['recommended_movie'], \n",
    "                'genres':record['all_genres'],\n",
    "                'similarity_score': record['similarity_score'],\n",
    "                'shared_genres': record['shared_genres']\n",
    "            })\n",
    "        return recommendations\n",
    "    \n",
    "    # Test\n",
    "recommendations = content_based(\"Toy Story (1995)\", limit=5)\n",
    "print('='*60)\n",
    "print(f\"         Recommandations for user who like 'Toy Story (1995)'\")\n",
    "print('='*60)\n",
    "for i, rec in enumerate(recommendations, 1):\n",
    "    print(f\"{i}. {rec['title']}\")\n",
    "    print(f\"   Similarity: {rec['similarity_score']} genres communs\")\n",
    "    print(f\"   Genres partagés: {', '.join(rec['shared_genres'])}\")\n",
    "    print()\n",
    "\n",
    "                                "
   ]
  },
  {
   "cell_type": "markdown",
   "id": "afd4a0cd",
   "metadata": {},
   "source": [
    "### 5.2. The collaboratif filtering approach"
   ]
  },
  {
   "cell_type": "markdown",
   "id": "9814648c",
   "metadata": {},
   "source": [
    "The idea is to find the movies that a user rates good (rating >= 4). Then, Find others users that also like this movie. After, recommend movies those users like "
   ]
  },
  {
   "cell_type": "code",
   "execution_count": 36,
   "id": "38283aff",
   "metadata": {},
   "outputs": [
    {
     "name": "stdout",
     "output_type": "stream",
     "text": [
      "============================================================\n",
      "        Recommendations for user 1\n",
      "============================================================\n",
      "1. Star Wars: Episode V - The Empire Strikes Back (1980)\n",
      "   Score: 221.7\n",
      "   Liked by 49 similar users\n",
      "   Note moyenne: 4.52\n",
      "\n",
      "2. Star Wars: Episode IV - A New Hope (1977)\n",
      "   Score: 217.2\n",
      "   Liked by 47 similar users\n",
      "   Note moyenne: 4.62\n",
      "\n",
      "3. Godfather, The (1972)\n",
      "   Score: 206.7\n",
      "   Liked by 43 similar users\n",
      "   Note moyenne: 4.81\n",
      "\n",
      "4. Pulp Fiction (1994)\n",
      "   Score: 202.3\n",
      "   Liked by 43 similar users\n",
      "   Note moyenne: 4.71\n",
      "\n",
      "5. Raiders of the Lost Ark (Indiana Jones and the Raiders of the Lost Ark) (1981)\n",
      "   Score: 199.6\n",
      "   Liked by 44 similar users\n",
      "   Note moyenne: 4.54\n",
      "\n"
     ]
    }
   ],
   "source": [
    "def collaboratif_filtering (user_id, limit = 10):\n",
    "    \"\"\"\n",
    "    Recommend movies based on similar users are liked\n",
    "    \"\"\"\n",
    "    with driver.session() as session:\n",
    "        result = session.run(\"\"\"\n",
    "            // Step 1 : Movies that the user has liked\n",
    "            MATCH (u:User {userId: $userId})-[r1:RATED]->(m:Movie)\n",
    "            WHERE r1.rating >= 4.0\n",
    "            \n",
    "            // Step 2 : Others users that liked the same movie\n",
    "            MATCH (u2:User)-[r2:RATED]->(m)\n",
    "            WHERE u2 <> u AND r2.rating >= 4.0\n",
    "            \n",
    "            // Step 3 : Movies those similar users liked\n",
    "            MATCH (u2)-[r3:RATED]->(m2:Movie)\n",
    "            WHERE r3.rating >= 4.0\n",
    "            \n",
    "            // Step 4 : Exclurde the movie already watched\n",
    "            AND NOT EXISTS((u)-[:RATED]->(m2))\n",
    "            \n",
    "            // Step 5 : Computing of a recommendation score\n",
    "            WITH m2, \n",
    "                 COUNT(DISTINCT u2) AS users_who_liked,\n",
    "                 AVG(r3.rating) AS avg_rating\n",
    "            \n",
    "            // Step 6 : Score composite\n",
    "            RETURN m2.title AS recommended_movie,\n",
    "                   m2.genres AS genres,\n",
    "                   users_who_liked,\n",
    "                   ROUND(avg_rating, 2) AS average_rating,\n",
    "                   (users_who_liked * avg_rating) AS recommendation_score\n",
    "            ORDER BY recommendation_score DESC\n",
    "            LIMIT $limit\n",
    "                    \"\"\", userId = user_id, limit = limit)\n",
    "        \n",
    "        recommendations = []\n",
    "        for record in result:\n",
    "            recommendations.append({\n",
    "                'title' : record['recommended_movie'],\n",
    "                'genres': record['genres'],\n",
    "                'users_who_liked' : record['users_who_liked'],\n",
    "                'avg_rating' : record['average_rating'],\n",
    "                'score' : record['recommendation_score']\n",
    "            })\n",
    "        return recommendations\n",
    "    \n",
    "    # Test\n",
    "user_recommendations = collaboratif_filtering(1, limit=5)\n",
    "print('='*60)\n",
    "print(f\"        Recommendations for user 1\")\n",
    "print('='*60)\n",
    "for i, rec in enumerate(user_recommendations, 1):\n",
    "    print(f\"{i}. {rec['title']}\")\n",
    "    print(f\"   Score: {rec['score']:.1f}\")\n",
    "    print(f\"   Liked by {rec['users_who_liked']} similar users\")\n",
    "    print(f\"   Note moyenne: {rec['avg_rating']}\")\n",
    "    print()"
   ]
  },
  {
   "cell_type": "markdown",
   "id": "61a6c480",
   "metadata": {},
   "source": [
    "### 5.3. Hybride approach (Content + collaboratif )"
   ]
  },
  {
   "cell_type": "code",
   "execution_count": null,
   "id": "ec19b7f7",
   "metadata": {},
   "outputs": [],
   "source": [
    "def recommend_hybrid(user_id, movie_title=None, limit=10):\n",
    "    \"\"\"\n",
    "    Combine both approach for best recommendations\n",
    "    \"\"\"\n",
    "    with driver.session() as session:\n",
    "        result = session.run(\"\"\"\n",
    "            // Step 1 : Films de l'utilisateur bien notés\n",
    "            MATCH (u:User {userId: $userId})-[r:RATED]->(liked:Movie)\n",
    "            WHERE r.rating >= 4.0\n",
    "            \n",
    "            // Step 2 : Genres de ces films\n",
    "            MATCH (liked)-[:HAS_GENRE]->(g:Genre)\n",
    "            \n",
    "            // Step 3 : Similar movies by gender\n",
    "            MATCH (recommended:Movie)-[:HAS_GENRE]->(g)\n",
    "            WHERE NOT EXISTS((u)-[:RATED]->(recommended))\n",
    "            \n",
    "            // Step 4 : Others users that liked similar movies\n",
    "            OPTIONAL MATCH (u2:User)-[r2:RATED]->(recommended)\n",
    "            WHERE u2 <> u AND r2.rating >= 4.0\n",
    "            \n",
    "            // Step 5 : Computing of scores\n",
    "            WITH recommended,\n",
    "                 COUNT(DISTINCT g) AS genre_match,\n",
    "                 COUNT(DISTINCT u2) AS collaborative_score,\n",
    "                 AVG(r2.rating) AS avg_rating\n",
    "            \n",
    "            // Step 6 : Hybrid score\n",
    "            RETURN recommended.title AS title,\n",
    "                   recommended.genres AS genres,\n",
    "                   genre_match,\n",
    "                   collaborative_score,\n",
    "                   COALESCE(avg_rating, 0) AS avg_rating,\n",
    "                   (genre_match * 2 + collaborative_score + COALESCE(avg_rating, 0)) AS hybrid_score\n",
    "            ORDER BY hybrid_score DESC\n",
    "            LIMIT $limit\n",
    "        \"\"\", userId=user_id, limit=limit)\n",
    "        \n",
    "        recommendations = []\n",
    "        for record in result:\n",
    "            recommendations.append({\n",
    "                'title': record['title'],\n",
    "                'genres': record['genres'],\n",
    "                'genre_match': record['genre_match'],\n",
    "                'collaborative_score': record['collaborative_score'],\n",
    "                'avg_rating': record['avg_rating'],\n",
    "                'hybrid_score': record['hybrid_score']\n",
    "            })\n",
    "        \n",
    "        return recommendations\n",
    "\n",
    "# Test\n",
    "hybrid_recs = recommend_hybrid(1, limit=5)\n",
    "print('='*60)\n",
    "print(f\"       Hybrid recommendations for user 1 \")\n",
    "print('='*60)\n",
    "for i, rec in enumerate(hybrid_recs, 1):\n",
    "    print(f\"{i}. {rec['title']}\")\n",
    "    print(f\"   Hybrid score: {rec['hybrid_score']:.1f}\")\n",
    "    print(f\"   Commons genders : {rec['genre_match']}\")\n",
    "    print(f\"   Score collaboratif: {rec['collaborative_score']}\")\n",
    "    print()"
   ]
  }
 ],
 "metadata": {
  "kernelspec": {
   "display_name": "3.13.5",
   "language": "python",
   "name": "python3"
  },
  "language_info": {
   "codemirror_mode": {
    "name": "ipython",
    "version": 3
   },
   "file_extension": ".py",
   "mimetype": "text/x-python",
   "name": "python",
   "nbconvert_exporter": "python",
   "pygments_lexer": "ipython3",
   "version": "3.13.5"
  }
 },
 "nbformat": 4,
 "nbformat_minor": 5
}
