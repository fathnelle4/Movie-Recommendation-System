{
 "cells": [
  {
   "cell_type": "markdown",
   "id": "644feb86-c3c9-4a11-b8ea-d907879525a8",
   "metadata": {},
   "source": [
    "## 1. Setup and Imports"
   ]
  },
  {
   "cell_type": "code",
   "execution_count": 16,
   "id": "ccb22fa9-cadf-4798-95d9-f65d19ffcd0a",
   "metadata": {},
   "outputs": [
    {
     "name": "stdout",
     "output_type": "stream",
     "text": [
      "Requirement already satisfied: neo4j in /home/ensai/.pyenv/versions/3.13.5/lib/python3.13/site-packages (6.0.2)\n",
      "Requirement already satisfied: pandas in /home/ensai/.pyenv/versions/3.13.5/lib/python3.13/site-packages (2.3.3)\n",
      "Requirement already satisfied: numpy in /home/ensai/.pyenv/versions/3.13.5/lib/python3.13/site-packages (2.3.4)\n",
      "Requirement already satisfied: matplotlib in /home/ensai/.pyenv/versions/3.13.5/lib/python3.13/site-packages (3.10.7)\n",
      "Requirement already satisfied: seaborn in /home/ensai/.pyenv/versions/3.13.5/lib/python3.13/site-packages (0.13.2)\n",
      "Requirement already satisfied: pytz in /home/ensai/.pyenv/versions/3.13.5/lib/python3.13/site-packages (from neo4j) (2025.2)\n",
      "Requirement already satisfied: python-dateutil>=2.8.2 in /home/ensai/.pyenv/versions/3.13.5/lib/python3.13/site-packages (from pandas) (2.9.0.post0)\n",
      "Requirement already satisfied: tzdata>=2022.7 in /home/ensai/.pyenv/versions/3.13.5/lib/python3.13/site-packages (from pandas) (2025.2)\n",
      "Requirement already satisfied: contourpy>=1.0.1 in /home/ensai/.pyenv/versions/3.13.5/lib/python3.13/site-packages (from matplotlib) (1.3.3)\n",
      "Requirement already satisfied: cycler>=0.10 in /home/ensai/.pyenv/versions/3.13.5/lib/python3.13/site-packages (from matplotlib) (0.12.1)\n",
      "Requirement already satisfied: fonttools>=4.22.0 in /home/ensai/.pyenv/versions/3.13.5/lib/python3.13/site-packages (from matplotlib) (4.60.1)\n",
      "Requirement already satisfied: kiwisolver>=1.3.1 in /home/ensai/.pyenv/versions/3.13.5/lib/python3.13/site-packages (from matplotlib) (1.4.9)\n",
      "Requirement already satisfied: packaging>=20.0 in /home/ensai/.pyenv/versions/3.13.5/lib/python3.13/site-packages (from matplotlib) (25.0)\n",
      "Requirement already satisfied: pillow>=8 in /home/ensai/.pyenv/versions/3.13.5/lib/python3.13/site-packages (from matplotlib) (12.0.0)\n",
      "Requirement already satisfied: pyparsing>=3 in /home/ensai/.pyenv/versions/3.13.5/lib/python3.13/site-packages (from matplotlib) (3.2.5)\n",
      "Requirement already satisfied: six>=1.5 in /home/ensai/.pyenv/versions/3.13.5/lib/python3.13/site-packages (from python-dateutil>=2.8.2->pandas) (1.17.0)\n"
     ]
    }
   ],
   "source": [
    "!pip install neo4j pandas numpy matplotlib seaborn"
   ]
  },
  {
   "cell_type": "code",
   "execution_count": 17,
   "id": "7d80c2f1-4ea2-4a81-a2a8-9a0eaa455d74",
   "metadata": {},
   "outputs": [],
   "source": [
    "from neo4j import GraphDatabase\n",
    "import pandas as pd\n",
    "import os"
   ]
  },
  {
   "cell_type": "markdown",
   "id": "8e9fa0a0-82af-4df5-b476-41e3b691fc93",
   "metadata": {},
   "source": [
    "### Connect to Neo4j\n",
    "\n",
    "**⚠️ Update the password below to match your Neo4j instance!**"
   ]
  },
  {
   "cell_type": "code",
   "execution_count": 20,
   "id": "2ddfb6ff-fb3f-4076-9572-abc1e40290dd",
   "metadata": {},
   "outputs": [
    {
     "name": "stdout",
     "output_type": "stream",
     "text": [
      "Connected to Neo4j!\n",
      "✓ Connection successful!\n"
     ]
    }
   ],
   "source": [
    "# Neo4j connection parameters\n",
    "NEO4J_URI = \"bolt://localhost:7687\"\n",
    "NEO4J_USER = \"neo4j\"\n",
    "NEO4J_PASSWORD = \"JeanAlice#123\"  # CHANGE THIS!\n",
    "\n",
    "# Test connection\n",
    "driver = GraphDatabase.driver(NEO4J_URI, auth=(NEO4J_USER, NEO4J_PASSWORD))\n",
    "\n",
    "try:\n",
    "    with driver.session() as session:\n",
    "        result = session.run(\"RETURN 'Connected to Neo4j!' AS message\")\n",
    "        print(result.single()[\"message\"])\n",
    "        print(\"✓ Connection successful!\")\n",
    "except Exception as e:\n",
    "    print(f\"✗ Connection failed: {e}\")\n",
    "    print(\"Make sure Neo4j is running: docker ps or using local command(To be specify) if not working with docker\")"
   ]
  },
  {
   "cell_type": "code",
   "execution_count": null,
   "id": "036aa180",
   "metadata": {},
   "outputs": [],
   "source": []
  },
  {
   "cell_type": "markdown",
   "id": "83055bc9-c9bd-46d0-87cf-aaa8830cd84a",
   "metadata": {},
   "source": [
    "## 2. Understanding the dataset"
   ]
  },
  {
   "cell_type": "code",
   "execution_count": 21,
   "id": "1fa89824-4893-44e8-9183-55ede7dd8f7e",
   "metadata": {},
   "outputs": [
    {
     "name": "stdout",
     "output_type": "stream",
     "text": [
      "============================================================\n",
      "DATASET OVERVIEW\n",
      "============================================================\n",
      "Number of users: 671\n",
      "Number of movies: 9,125\n",
      "Number of ratings: 100,004\n",
      "\n",
      "Rating range: 0.5 - 5.0\n",
      "Average rating: 3.54\n",
      "Median rating: 4.0\n"
     ]
    }
   ],
   "source": [
    "# Load the CSV files\n",
    "data_path =''\n",
    "movies_df = pd.read_csv(os.path.join(data_path, \"movies.csv\"))\n",
    "ratings_df = pd.read_csv(os.path.join(data_path, \"ratings.csv\"))\n",
    "\n",
    "print(\"=\"*60)\n",
    "print(\"DATASET OVERVIEW\")\n",
    "print(\"=\"*60)\n",
    "print(f\"Number of users: {ratings_df['userId'].nunique():,}\")\n",
    "print(f\"Number of movies: {movies_df.shape[0]:,}\")\n",
    "print(f\"Number of ratings: {ratings_df.shape[0]:,}\")\n",
    "print(f\"\\nRating range: {ratings_df['rating'].min()} - {ratings_df['rating'].max()}\")\n",
    "print(f\"Average rating: {ratings_df['rating'].mean():.2f}\")\n",
    "print(f\"Median rating: {ratings_df['rating'].median():.1f}\")"
   ]
  },
  {
   "cell_type": "code",
   "execution_count": 22,
   "id": "a478d0ee-b1c1-4719-b21d-996c3428789a",
   "metadata": {},
   "outputs": [
    {
     "name": "stdout",
     "output_type": "stream",
     "text": [
      "\n",
      "============================================================\n",
      "MOVIES SAMPLE\n",
      "============================================================\n"
     ]
    },
    {
     "data": {
      "text/html": [
       "<div>\n",
       "<style scoped>\n",
       "    .dataframe tbody tr th:only-of-type {\n",
       "        vertical-align: middle;\n",
       "    }\n",
       "\n",
       "    .dataframe tbody tr th {\n",
       "        vertical-align: top;\n",
       "    }\n",
       "\n",
       "    .dataframe thead th {\n",
       "        text-align: right;\n",
       "    }\n",
       "</style>\n",
       "<table border=\"1\" class=\"dataframe\">\n",
       "  <thead>\n",
       "    <tr style=\"text-align: right;\">\n",
       "      <th></th>\n",
       "      <th>movieId</th>\n",
       "      <th>title</th>\n",
       "      <th>genres</th>\n",
       "    </tr>\n",
       "  </thead>\n",
       "  <tbody>\n",
       "    <tr>\n",
       "      <th>0</th>\n",
       "      <td>1</td>\n",
       "      <td>Toy Story (1995)</td>\n",
       "      <td>Adventure|Animation|Children|Comedy|Fantasy</td>\n",
       "    </tr>\n",
       "    <tr>\n",
       "      <th>1</th>\n",
       "      <td>2</td>\n",
       "      <td>Jumanji (1995)</td>\n",
       "      <td>Adventure|Children|Fantasy</td>\n",
       "    </tr>\n",
       "    <tr>\n",
       "      <th>2</th>\n",
       "      <td>3</td>\n",
       "      <td>Grumpier Old Men (1995)</td>\n",
       "      <td>Comedy|Romance</td>\n",
       "    </tr>\n",
       "    <tr>\n",
       "      <th>3</th>\n",
       "      <td>4</td>\n",
       "      <td>Waiting to Exhale (1995)</td>\n",
       "      <td>Comedy|Drama|Romance</td>\n",
       "    </tr>\n",
       "    <tr>\n",
       "      <th>4</th>\n",
       "      <td>5</td>\n",
       "      <td>Father of the Bride Part II (1995)</td>\n",
       "      <td>Comedy</td>\n",
       "    </tr>\n",
       "    <tr>\n",
       "      <th>5</th>\n",
       "      <td>6</td>\n",
       "      <td>Heat (1995)</td>\n",
       "      <td>Action|Crime|Thriller</td>\n",
       "    </tr>\n",
       "    <tr>\n",
       "      <th>6</th>\n",
       "      <td>7</td>\n",
       "      <td>Sabrina (1995)</td>\n",
       "      <td>Comedy|Romance</td>\n",
       "    </tr>\n",
       "    <tr>\n",
       "      <th>7</th>\n",
       "      <td>8</td>\n",
       "      <td>Tom and Huck (1995)</td>\n",
       "      <td>Adventure|Children</td>\n",
       "    </tr>\n",
       "    <tr>\n",
       "      <th>8</th>\n",
       "      <td>9</td>\n",
       "      <td>Sudden Death (1995)</td>\n",
       "      <td>Action</td>\n",
       "    </tr>\n",
       "    <tr>\n",
       "      <th>9</th>\n",
       "      <td>10</td>\n",
       "      <td>GoldenEye (1995)</td>\n",
       "      <td>Action|Adventure|Thriller</td>\n",
       "    </tr>\n",
       "  </tbody>\n",
       "</table>\n",
       "</div>"
      ],
      "text/plain": [
       "   movieId                               title  \\\n",
       "0        1                    Toy Story (1995)   \n",
       "1        2                      Jumanji (1995)   \n",
       "2        3             Grumpier Old Men (1995)   \n",
       "3        4            Waiting to Exhale (1995)   \n",
       "4        5  Father of the Bride Part II (1995)   \n",
       "5        6                         Heat (1995)   \n",
       "6        7                      Sabrina (1995)   \n",
       "7        8                 Tom and Huck (1995)   \n",
       "8        9                 Sudden Death (1995)   \n",
       "9       10                    GoldenEye (1995)   \n",
       "\n",
       "                                        genres  \n",
       "0  Adventure|Animation|Children|Comedy|Fantasy  \n",
       "1                   Adventure|Children|Fantasy  \n",
       "2                               Comedy|Romance  \n",
       "3                         Comedy|Drama|Romance  \n",
       "4                                       Comedy  \n",
       "5                        Action|Crime|Thriller  \n",
       "6                               Comedy|Romance  \n",
       "7                           Adventure|Children  \n",
       "8                                       Action  \n",
       "9                    Action|Adventure|Thriller  "
      ]
     },
     "metadata": {},
     "output_type": "display_data"
    },
    {
     "name": "stdout",
     "output_type": "stream",
     "text": [
      "\n",
      "============================================================\n",
      "RATINGS SAMPLE\n",
      "============================================================\n"
     ]
    },
    {
     "data": {
      "text/html": [
       "<div>\n",
       "<style scoped>\n",
       "    .dataframe tbody tr th:only-of-type {\n",
       "        vertical-align: middle;\n",
       "    }\n",
       "\n",
       "    .dataframe tbody tr th {\n",
       "        vertical-align: top;\n",
       "    }\n",
       "\n",
       "    .dataframe thead th {\n",
       "        text-align: right;\n",
       "    }\n",
       "</style>\n",
       "<table border=\"1\" class=\"dataframe\">\n",
       "  <thead>\n",
       "    <tr style=\"text-align: right;\">\n",
       "      <th></th>\n",
       "      <th>userId</th>\n",
       "      <th>movieId</th>\n",
       "      <th>rating</th>\n",
       "      <th>timestamp</th>\n",
       "    </tr>\n",
       "  </thead>\n",
       "  <tbody>\n",
       "    <tr>\n",
       "      <th>0</th>\n",
       "      <td>1</td>\n",
       "      <td>31</td>\n",
       "      <td>2.5</td>\n",
       "      <td>1260759144</td>\n",
       "    </tr>\n",
       "    <tr>\n",
       "      <th>1</th>\n",
       "      <td>1</td>\n",
       "      <td>1029</td>\n",
       "      <td>3.0</td>\n",
       "      <td>1260759179</td>\n",
       "    </tr>\n",
       "    <tr>\n",
       "      <th>2</th>\n",
       "      <td>1</td>\n",
       "      <td>1061</td>\n",
       "      <td>3.0</td>\n",
       "      <td>1260759182</td>\n",
       "    </tr>\n",
       "    <tr>\n",
       "      <th>3</th>\n",
       "      <td>1</td>\n",
       "      <td>1129</td>\n",
       "      <td>2.0</td>\n",
       "      <td>1260759185</td>\n",
       "    </tr>\n",
       "    <tr>\n",
       "      <th>4</th>\n",
       "      <td>1</td>\n",
       "      <td>1172</td>\n",
       "      <td>4.0</td>\n",
       "      <td>1260759205</td>\n",
       "    </tr>\n",
       "    <tr>\n",
       "      <th>5</th>\n",
       "      <td>1</td>\n",
       "      <td>1263</td>\n",
       "      <td>2.0</td>\n",
       "      <td>1260759151</td>\n",
       "    </tr>\n",
       "    <tr>\n",
       "      <th>6</th>\n",
       "      <td>1</td>\n",
       "      <td>1287</td>\n",
       "      <td>2.0</td>\n",
       "      <td>1260759187</td>\n",
       "    </tr>\n",
       "    <tr>\n",
       "      <th>7</th>\n",
       "      <td>1</td>\n",
       "      <td>1293</td>\n",
       "      <td>2.0</td>\n",
       "      <td>1260759148</td>\n",
       "    </tr>\n",
       "    <tr>\n",
       "      <th>8</th>\n",
       "      <td>1</td>\n",
       "      <td>1339</td>\n",
       "      <td>3.5</td>\n",
       "      <td>1260759125</td>\n",
       "    </tr>\n",
       "    <tr>\n",
       "      <th>9</th>\n",
       "      <td>1</td>\n",
       "      <td>1343</td>\n",
       "      <td>2.0</td>\n",
       "      <td>1260759131</td>\n",
       "    </tr>\n",
       "  </tbody>\n",
       "</table>\n",
       "</div>"
      ],
      "text/plain": [
       "   userId  movieId  rating   timestamp\n",
       "0       1       31     2.5  1260759144\n",
       "1       1     1029     3.0  1260759179\n",
       "2       1     1061     3.0  1260759182\n",
       "3       1     1129     2.0  1260759185\n",
       "4       1     1172     4.0  1260759205\n",
       "5       1     1263     2.0  1260759151\n",
       "6       1     1287     2.0  1260759187\n",
       "7       1     1293     2.0  1260759148\n",
       "8       1     1339     3.5  1260759125\n",
       "9       1     1343     2.0  1260759131"
      ]
     },
     "metadata": {},
     "output_type": "display_data"
    }
   ],
   "source": [
    "# Preview the data\n",
    "print(\"\\n\" + \"=\"*60)\n",
    "print(\"MOVIES SAMPLE\")\n",
    "print(\"=\"*60)\n",
    "display(movies_df.head(10))\n",
    "\n",
    "print(\"\\n\" + \"=\"*60)\n",
    "print(\"RATINGS SAMPLE\")\n",
    "print(\"=\"*60)\n",
    "display(ratings_df.head(10))"
   ]
  },
  {
   "cell_type": "markdown",
   "id": "da925b05-8da9-4c3c-a4f0-b86f8ef5faf8",
   "metadata": {},
   "source": [
    "## 3.Exploratory data analysis"
   ]
  },
  {
   "cell_type": "code",
   "execution_count": null,
   "id": "4f3fa786",
   "metadata": {},
   "outputs": [],
   "source": []
  },
  {
   "cell_type": "markdown",
   "id": "c41d20a4-8fc7-4cef-89ed-8b88ce75ebb2",
   "metadata": {},
   "source": [
    "## 4. Loading Data into Neo4j\n",
    "\n",
    "Now we will create the graph structure in Neo4j."
   ]
  },
  {
   "cell_type": "code",
   "execution_count": 23,
   "id": "9404f42d-ada3-4897-8c45-1e0f8e6eed2a",
   "metadata": {},
   "outputs": [
    {
     "name": "stdout",
     "output_type": "stream",
     "text": [
      "✓ Database cleared\n",
      "✓ Constraints created\n"
     ]
    }
   ],
   "source": [
    "def clear_database():\n",
    "    \"\"\"Clear all nodes and relationships\"\"\"\n",
    "    with driver.session() as session:\n",
    "        session.run(\"MATCH (n) DETACH DELETE n\")\n",
    "    print(\"✓ Database cleared\")\n",
    "\n",
    "def create_constraints():\n",
    "    \"\"\"Create uniqueness constraints for better performance\"\"\"\n",
    "    with driver.session() as session:\n",
    "        try:\n",
    "            session.run(\"CREATE CONSTRAINT user_id IF NOT EXISTS FOR (u:User) REQUIRE u.userId IS UNIQUE\")\n",
    "            session.run(\"CREATE CONSTRAINT movie_id IF NOT EXISTS FOR (m:Movie) REQUIRE m.movieId IS UNIQUE\")\n",
    "            print(\"✓ Constraints created\")\n",
    "        except Exception as e:\n",
    "            print(f\"Constraints may already exist: {e}\")\n",
    "\n",
    "# Clear and prepare database\n",
    "clear_database()\n",
    "create_constraints()"
   ]
  },
  {
   "cell_type": "code",
   "execution_count": 24,
   "id": "985f84fd-d252-421d-a1c2-a881ecad76ab",
   "metadata": {},
   "outputs": [
    {
     "name": "stdout",
     "output_type": "stream",
     "text": [
      "Loading movies...\n",
      "✓ Loaded 9125 movies\n"
     ]
    }
   ],
   "source": [
    "# Load movies\n",
    "print(\"Loading movies...\")\n",
    "with driver.session() as session:\n",
    "    for _, row in movies_df.iterrows():\n",
    "        session.run(\"\"\"\n",
    "            MERGE (m:Movie {movieId: $movieId})\n",
    "            SET m.title = $title, m.genres = $genres\n",
    "        \"\"\", movieId=int(row['movieId']), \n",
    "             title=row['title'], \n",
    "             genres=row['genres'])\n",
    "\n",
    "print(f\"✓ Loaded {len(movies_df)} movies\")"
   ]
  },
  {
   "cell_type": "code",
   "execution_count": 25,
   "id": "5dcd7ceb-8c66-452a-b0c4-264718cc989e",
   "metadata": {},
   "outputs": [
    {
     "name": "stdout",
     "output_type": "stream",
     "text": [
      "Loading ratings...\n",
      "  Loaded 10,000 ratings...\n",
      "  Loaded 20,000 ratings...\n",
      "  Loaded 30,000 ratings...\n",
      "  Loaded 40,000 ratings...\n",
      "  Loaded 50,000 ratings...\n",
      "  Loaded 60,000 ratings...\n",
      "  Loaded 70,000 ratings...\n",
      "  Loaded 80,000 ratings...\n",
      "  Loaded 90,000 ratings...\n",
      "  Loaded 100,000 ratings...\n",
      "✓ Loaded 100,004 ratings\n",
      "\n",
      "✓ Data loading complete!\n"
     ]
    }
   ],
   "source": [
    "# Load ratings in batches\n",
    "print(\"Loading ratings...\")\n",
    "batch_size = 1000\n",
    "\n",
    "for i in range(0, len(ratings_df), batch_size):\n",
    "    batch = ratings_df.iloc[i:i+batch_size]\n",
    "    \n",
    "    with driver.session() as session:\n",
    "        session.run(\"\"\"\n",
    "            UNWIND $ratings AS rating\n",
    "            MERGE (u:User {userId: rating.userId})\n",
    "            MERGE (m:Movie {movieId: rating.movieId})\n",
    "            MERGE (u)-[r:RATED]->(m)\n",
    "            SET r.rating = rating.rating, r.timestamp = rating.timestamp\n",
    "        \"\"\", ratings=[row.to_dict() for _, row in batch.iterrows()])\n",
    "    \n",
    "    if (i + batch_size) % 10000 == 0:\n",
    "        print(f\"  Loaded {i + batch_size:,} ratings...\")\n",
    "\n",
    "print(f\"✓ Loaded {len(ratings_df):,} ratings\")\n",
    "print(\"\\n✓ Data loading complete!\")"
   ]
  },
  {
   "cell_type": "code",
   "execution_count": 27,
   "id": "3c372aff-b9e8-446f-b881-0164dbd8c4c2",
   "metadata": {},
   "outputs": [
    {
     "name": "stdout",
     "output_type": "stream",
     "text": [
      "============================================================\n",
      "NEO4J DATABASE STATISTICS\n",
      "============================================================\n",
      "Users in database: 671\n",
      "Movies in database: 9,125\n",
      "Ratings in database: 100,004\n",
      "\n",
      "✓ Data successfully loaded into Neo4j!\n"
     ]
    }
   ],
   "source": [
    "# Verify data in Neo4j\n",
    "with driver.session() as session:\n",
    "    result = session.run(\"MATCH (u:User) RETURN count(u) AS count\")\n",
    "    user_count = result.single()[\"count\"]\n",
    "    \n",
    "    result = session.run(\"MATCH (m:Movie) RETURN count(m) AS count\")\n",
    "    movie_count = result.single()[\"count\"]\n",
    "    \n",
    "    result = session.run(\"MATCH ()-[r:RATED]->() RETURN count(r) AS count\")\n",
    "    rating_count = result.single()[\"count\"]\n",
    "\n",
    "print(\"=\"*60)\n",
    "print(\"NEO4J DATABASE STATISTICS\")\n",
    "print(\"=\"*60)\n",
    "print(f\"Users in database: {user_count:,}\")\n",
    "print(f\"Movies in database: {movie_count:,}\")\n",
    "print(f\"Ratings in database: {rating_count:,}\")\n",
    "print(\"\\n✓ Data successfully loaded into Neo4j!\")"
   ]
  },
  {
   "cell_type": "code",
   "execution_count": 28,
   "id": "fde8cb89-a5e7-4160-aeb1-dd2c9c3a5a2b",
   "metadata": {},
   "outputs": [
    {
     "name": "stdout",
     "output_type": "stream",
     "text": [
      "<Node element_id='4:ec60d456-54ff-49ac-8eab-6031537ac98a:0' labels=frozenset({'Movie'}) properties={'genres': 'Adventure|Animation|Children|Comedy|Fantasy', 'movieId': 1, 'title': 'Toy Story (1995)'}>\n",
      "<Node element_id='4:ec60d456-54ff-49ac-8eab-6031537ac98a:1' labels=frozenset({'Movie'}) properties={'genres': 'Adventure|Children|Fantasy', 'movieId': 2, 'title': 'Jumanji (1995)'}>\n",
      "<Node element_id='4:ec60d456-54ff-49ac-8eab-6031537ac98a:2' labels=frozenset({'Movie'}) properties={'genres': 'Comedy|Romance', 'movieId': 3, 'title': 'Grumpier Old Men (1995)'}>\n",
      "<Node element_id='4:ec60d456-54ff-49ac-8eab-6031537ac98a:3' labels=frozenset({'Movie'}) properties={'genres': 'Comedy|Drama|Romance', 'movieId': 4, 'title': 'Waiting to Exhale (1995)'}>\n",
      "<Node element_id='4:ec60d456-54ff-49ac-8eab-6031537ac98a:4' labels=frozenset({'Movie'}) properties={'genres': 'Comedy', 'movieId': 5, 'title': 'Father of the Bride Part II (1995)'}>\n"
     ]
    }
   ],
   "source": [
    "# Try to get few data\n",
    "with driver.session() as session:\n",
    "    result = session.run(\"MATCH (n:Movie) RETURN n LIMIT 5\")\n",
    "    \n",
    "    # Print the results\n",
    "    for record in result:\n",
    "        print(record[\"n\"])"
   ]
  },
  {
   "cell_type": "code",
   "execution_count": 29,
   "id": "fc8d9427-c680-488b-a093-6abb0591d744",
   "metadata": {},
   "outputs": [
    {
     "name": "stdout",
     "output_type": "stream",
     "text": [
      "Movie ID: 1, Title: Toy Story (1995)\n",
      "Movie ID: 2, Title: Jumanji (1995)\n",
      "Movie ID: 3, Title: Grumpier Old Men (1995)\n"
     ]
    }
   ],
   "source": [
    "# Try to get few data\n",
    "with driver.session() as session:\n",
    "    result = session.run(\"MATCH (n:Movie) RETURN n LIMIT 3\")\n",
    "    \n",
    "    for record in result:\n",
    "        movie = record[\"n\"]\n",
    "        print(f\"Movie ID: {movie['movieId']}, Title: {movie['title']}\")"
   ]
  },
  {
   "cell_type": "markdown",
   "id": "8e684a6a",
   "metadata": {},
   "source": [
    "5. Recommandation System"
   ]
  },
  {
   "cell_type": "code",
   "execution_count": null,
   "id": "51769182-ee1f-4365-8c2c-40924e5fb2a1",
   "metadata": {},
   "outputs": [],
   "source": []
  }
 ],
 "metadata": {
  "kernelspec": {
   "display_name": "3.13.5",
   "language": "python",
   "name": "python3"
  },
  "language_info": {
   "codemirror_mode": {
    "name": "ipython",
    "version": 3
   },
   "file_extension": ".py",
   "mimetype": "text/x-python",
   "name": "python",
   "nbconvert_exporter": "python",
   "pygments_lexer": "ipython3",
   "version": "3.13.5"
  }
 },
 "nbformat": 4,
 "nbformat_minor": 5
}
